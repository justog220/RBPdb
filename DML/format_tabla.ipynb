{
 "cells": [
  {
   "cell_type": "markdown",
   "metadata": {},
   "source": [
    "# Notebook para llevar a cabo las consultas y formatear las tablas para su inserción en el informe."
   ]
  },
  {
   "cell_type": "code",
   "execution_count": 8,
   "metadata": {},
   "outputs": [
    {
     "name": "stdout",
     "output_type": "stream",
     "text": [
      "\\begin{tabular}{lrl}\n",
      "\\toprule\n",
      " & total & especie \\\\\n",
      "\\midrule\n",
      "0 & 390 & Homo sapiens \\\\\n",
      "1 & 339 & Mus musculus \\\\\n",
      "2 & 167 & Caenorhabditis elegans \\\\\n",
      "3 & 73 & Drosophila melanogaster \\\\\n",
      "4 & 1 & Danio rerio \\\\\n",
      "\\bottomrule\n",
      "\\end{tabular}\n",
      "\n"
     ]
    }
   ],
   "source": [
    "import psycopg2\n",
    "import matplotlib.pyplot as plt\n",
    "import pandas as pd\n",
    "import seaborn as sns\n",
    "\n",
    "conn = psycopg2.connect(database=\"RBPDB\",\n",
    "                        host=\"localhost\",\n",
    "                        user=\"postgres\",\n",
    "                        password=\"123456\",\n",
    "                        port=\"5432\")\n",
    "\n",
    "cursor = conn.cursor()\n",
    "\n",
    "cursor.execute(\n",
    "    \" SELECT COUNT(prot.*) AS Total, esp.Nombre as especie \\\n",
    " FROM proteina as prot \\\n",
    " JOIN especie as esp \\\n",
    "\tON esp.id_especie = prot.id_especie \\\n",
    "GROUP BY esp.Nombre \\\n",
    "ORDER BY Total DESC;\")\n",
    "\n",
    "df = pd.DataFrame(cursor.fetchall(), columns=[desc[0] for desc in cursor.description])\n",
    "\n",
    "print(df.to_latex())"
   ]
  },
  {
   "cell_type": "code",
   "execution_count": null,
   "metadata": {},
   "outputs": [],
   "source": []
  }
 ],
 "metadata": {
  "kernelspec": {
   "display_name": "Python 3",
   "language": "python",
   "name": "python3"
  },
  "language_info": {
   "codemirror_mode": {
    "name": "ipython",
    "version": 3
   },
   "file_extension": ".py",
   "mimetype": "text/x-python",
   "name": "python",
   "nbconvert_exporter": "python",
   "pygments_lexer": "ipython3",
   "version": "3.10.12"
  }
 },
 "nbformat": 4,
 "nbformat_minor": 2
}
