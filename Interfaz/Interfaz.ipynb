{
 "cells": [
  {
   "cell_type": "code",
   "execution_count": 25,
   "id": "9c9588ff-92d5-42f2-92b3-a8b158b540a6",
   "metadata": {},
   "outputs": [],
   "source": [
    "import psycopg2\n",
    "from IPython.display import display, Markdown\n",
    "import ipywidgets as widgets\n",
    "conn = psycopg2.connect(\n",
    "    database=\"RBPDB\",\n",
    "    host=\"localhost\",\n",
    "    user=\"postgres\",\n",
    "    password=\"123456\",\n",
    "    port=\"5432\"\n",
    ")\n",
    "\n",
    "cursor = conn.cursor()"
   ]
  },
  {
   "cell_type": "code",
   "execution_count": 26,
   "id": "63d39796-26a1-49a5-a0f6-55cf05ebfb0e",
   "metadata": {},
   "outputs": [
    {
     "data": {
      "text/plain": [
       "'A0AV96'"
      ]
     },
     "execution_count": 26,
     "metadata": {},
     "output_type": "execute_result"
    }
   ],
   "source": [
    "proteinaSeleccionada"
   ]
  },
  {
   "cell_type": "code",
   "execution_count": 35,
   "id": "98dd0541-c7aa-4037-8ff6-39b0d91292fd",
   "metadata": {},
   "outputs": [
    {
     "data": {
      "text/plain": [
       "['MGSDKRVSRTERSGRYGSIIDRDDRDERESRSRRRDSDYKRSSDDRRGDRYDDYRDYDSPERERERRNSDRSEDGYHSDGDYGEHDYRHDISDERESKTIMLRGLPITITESDIREMMESFEGPQPADVRLMKRKTGVSRGFAFVEFYHLQDATSWMEANQKKLVIQGKHIAMHYSNPRPKFEDWLCNKCCLNNFRKRLKCFRCGADKFDSEQEVPPGTTESVQSVDYYCDTIILRNIAPHTVVDSIMTALSPYASLAVNNIRLIKDKQTQQNRGFAFVQLSSAMDASQLLQILQSLHPPLKIDGKTIGVDFAKSARKDLVLSDGNRVSAFSVASTAIAAAQWSSTQSQSGEGGSVDYSYLQPGQDGYAQYAQYSQDYQQFYQQQAGGLESDASSASGTAVTTTSAAVVSQSPQLYNQTSNPPGSPTEEAQPSTSTSTQAPAASPTGVVPGTKYAVPDTSTYQYDESSGYYYDPTTGLYYDPNSQYYYNSLTQQYLYWDGEKETYVPAAESSSHQQSGLPPAKEGKEKKEKPKSKTAQQIAKDMERWAKSLNKQKENFKNSFQPVNSLREEERRESAAADAGFALFEKKGALAERQQLIPELVRNGDEENPLKRGLVAAYSGDSDNEEELVERLESEEEKLADWKKMACLLCRRQFPNKDALVRHQQLSDLHKQNMDIYRRSRLSEQELEALELREREMKYRDRAAERREKYGIPEPPEPKRKKQFDAGTVNYEQPTKDGIDHSNIGNKMLQAMGWREGSGLGRKCQGITAPIEAQVRLKGAGLGAKGSAYGLSGADSYKDAVRKAMFARFTEME']"
      ]
     },
     "execution_count": 35,
     "metadata": {},
     "output_type": "execute_result"
    }
   ],
   "source": [
    "consulta = f\"SELECT sec.secuencia FROM secuencia as sec WHERE sec.id_proteina = (SELECT prot.id_proteina FROM proteina as prot WHERE prot.uniprotid = '{proteinaSeleccionada}')\"\n",
    "cursor.execute(consulta)\n",
    "secuencia = [i[0] for i in cursor.fetchall()]\n",
    "secuencia"
   ]
  },
  {
   "cell_type": "code",
   "execution_count": 28,
   "id": "9212f27a-0956-4da5-963f-bb5ca024ed40",
   "metadata": {},
   "outputs": [
    {
     "data": {
      "application/vnd.jupyter.widget-view+json": {
       "model_id": "6d3abbabdae54603828b5a79306155b4",
       "version_major": 2,
       "version_minor": 0
      },
      "text/plain": [
       "Dropdown(description='Proteina: ', options=('P52756', 'P78332', 'Q96IC2', 'Q9Y2T7', 'O75534', 'P26599', 'Q8IXZ…"
      ]
     },
     "metadata": {},
     "output_type": "display_data"
    }
   ],
   "source": [
    "cursor.execute(\"SELECT UniProtID FROM proteina\")\n",
    "UniProtIDs = [i[0] for i in cursor.fetchall()]\n",
    "proteinaSeleccionada = UniProtIDs[0]\n",
    "\n",
    "def on_dropdown_change(change):\n",
    "    global proteinaSeleccionada\n",
    "    if change['type'] == 'change' and change['name'] == 'value':\n",
    "        proteinaSeleccionada = change['new']\n",
    "\n",
    "def mostrar_secuencia(proteina):\n",
    "    # Supongamos que tienes una secuencia larga de aminoácidos en una variable llamada \"secuencia\"\n",
    "    global proteinaSeleccionada\n",
    "    secuencia = cursor.execute(\n",
    "        f\"SELECT sec.secuencia \\\n",
    "        FROM secuencia as sec \\\n",
    "        WHERE sec.id_proteina = ( \\\n",
    "                SELECT prot.id_proteina \\\n",
    "                FROM proteina as prot \\\n",
    "                WHERE prot.uniprotid = {proteinaSeleccionada}\"\n",
    "        \n",
    "    )\n",
    "\n",
    "    \n",
    "\n",
    "    # Definir el número de caracteres por línea\n",
    "    caracteres_por_linea = 50\n",
    "\n",
    "    # Dividir la secuencia en líneas de caracteres_por_linea caracteres cada una\n",
    "    secuencia_dividida = textwrap.wrap(secuencia, caracteres_por_linea)\n",
    "\n",
    "    # Crear un formato Markdown para mostrar la secuencia dividida\n",
    "    secuencia_formateada = \"\\n\".join(secuencia_dividida)\n",
    "\n",
    "    # Mostrar el resultado en una celda de la notebook\n",
    "    display(Markdown(f\"**Secuencia de {proteina}:**\\n\\n{secuencia_formateada}\"))\n",
    "\n",
    "dropDwn = widgets.Dropdown(\n",
    "    options=UniProtIDs,\n",
    "    value=UniProtIDs[0],\n",
    "    description='Proteina: ',\n",
    "    disabled=False,\n",
    ")\n",
    "dropDwn.observe(on_dropdown_change)\n",
    "display(dropDwn)"
   ]
  },
  {
   "cell_type": "code",
   "execution_count": null,
   "id": "32cb36b0-91e9-4ecf-b97b-945be5348a3d",
   "metadata": {},
   "outputs": [],
   "source": []
  },
  {
   "cell_type": "markdown",
   "id": "a931c38f-01f8-4024-a1de-06e6629001e1",
   "metadata": {},
   "source": [
    "from IPython.display import display, Markdown\n",
    "import textwrap\n",
    "\n",
    "# Supongamos que tienes una secuencia larga de aminoácidos en una variable llamada \"secuencia\"\n",
    "secuencia = \"MTPQTARPALVLAIAGVALL...\"  # Tu secuencia larga aquí\n",
    "\n",
    "# Definir el número de caracteres por línea\n",
    "caracteres_por_linea = 50\n",
    "\n",
    "# Dividir la secuencia en líneas de caracteres_por_linea caracteres cada una\n",
    "secuencia_dividida = textwrap.wrap(secuencia, caracteres_por_linea)\n",
    "\n",
    "# Crear un formato Markdown para mostrar la secuencia dividida\n",
    "secuencia_formateada = \"\\n\".join(secuencia_dividida)\n",
    "\n",
    "# Mostrar el resultado en una celda de la notebook\n",
    "display(Markdown(secuencia_formateada))\n",
    "\n"
   ]
  },
  {
   "cell_type": "code",
   "execution_count": null,
   "id": "d37551a4-64ca-42ca-a2fb-82f68bbb19d6",
   "metadata": {},
   "outputs": [],
   "source": []
  }
 ],
 "metadata": {
  "kernelspec": {
   "display_name": "Python 3 (ipykernel)",
   "language": "python",
   "name": "python3"
  },
  "language_info": {
   "codemirror_mode": {
    "name": "ipython",
    "version": 3
   },
   "file_extension": ".py",
   "mimetype": "text/x-python",
   "name": "python",
   "nbconvert_exporter": "python",
   "pygments_lexer": "ipython3",
   "version": "3.10.12"
  }
 },
 "nbformat": 4,
 "nbformat_minor": 5
}
