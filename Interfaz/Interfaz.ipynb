{
 "cells": [
  {
   "cell_type": "code",
   "execution_count": 1,
   "id": "9c9588ff-92d5-42f2-92b3-a8b158b540a6",
   "metadata": {},
   "outputs": [],
   "source": [
    "import psycopg2\n",
    "from IPython.display import display, Markdown, clear_output\n",
    "import ipywidgets as widgets\n",
    "import textwrap\n"
   ]
  },
  {
   "cell_type": "code",
   "execution_count": 21,
   "id": "384bf9df-e821-4ad9-a32c-378933c9e2d9",
   "metadata": {},
   "outputs": [
    {
     "data": {
      "text/html": [
       "\n",
       "        <iframe\n",
       "            width=\"100%\"\n",
       "            height=\"650\"\n",
       "            src=\"http://127.0.0.1:8050/\"\n",
       "            frameborder=\"0\"\n",
       "            allowfullscreen\n",
       "            \n",
       "        ></iframe>\n",
       "        "
      ],
      "text/plain": [
       "<IPython.lib.display.IFrame at 0x7efd90270a90>"
      ]
     },
     "metadata": {},
     "output_type": "display_data"
    },
    {
     "name": "stderr",
     "output_type": "stream",
     "text": [
      "[2023-10-15 15:22:51,687] ERROR in app: Exception on /_dash-update-component [POST]\n",
      "Traceback (most recent call last):\n",
      "  File \"/home/justo/.local/lib/python3.10/site-packages/flask/app.py\", line 2529, in wsgi_app\n",
      "    response = self.full_dispatch_request()\n",
      "  File \"/home/justo/.local/lib/python3.10/site-packages/flask/app.py\", line 1825, in full_dispatch_request\n",
      "    rv = self.handle_user_exception(e)\n",
      "  File \"/home/justo/.local/lib/python3.10/site-packages/flask/app.py\", line 1823, in full_dispatch_request\n",
      "    rv = self.dispatch_request()\n",
      "  File \"/home/justo/.local/lib/python3.10/site-packages/flask/app.py\", line 1799, in dispatch_request\n",
      "    return self.ensure_sync(self.view_functions[rule.endpoint])(**view_args)\n",
      "  File \"/home/justo/.local/lib/python3.10/site-packages/dash/dash.py\", line 1297, in dispatch\n",
      "    ctx.run(\n",
      "  File \"/home/justo/.local/lib/python3.10/site-packages/dash/_callback.py\", line 437, in add_context\n",
      "    output_value = func(*func_args, **func_kwargs)  # %% callback invoked %%\n",
      "  File \"/tmp/ipykernel_11172/2465886299.py\", line 33, in actualizar_seq\n",
      "    secuencia = [i[0] for i in cursor.fetchall()][0]\n",
      "IndexError: list index out of range\n"
     ]
    }
   ],
   "source": [
    "import urllib.request as urlreq\n",
    "from dash import Dash, html, dcc, callback, Output, Input\n",
    "import dash_bio as dashbio\n",
    "import dash_bootstrap_components as dbc\n",
    "import psycopg2\n",
    "\n",
    "app = Dash(__name__, external_stylesheets=[dbc.themes.SLATE])\n",
    "\n",
    "conn = psycopg2.connect(\n",
    "    database=\"RBPDB\",\n",
    "    host=\"localhost\",\n",
    "    user=\"postgres\",\n",
    "    password=\"123456\",\n",
    "    port=\"5432\"\n",
    ")\n",
    "\n",
    "cursor = conn.cursor()\n",
    "cursor.execute(\"SELECT uniprotid FROM proteina\")\n",
    "UniProtIDs = [i[0] for i in cursor.fetchall()]\n",
    "secuencia = '-'\n",
    "titulo = \" \"\n",
    "\n",
    "app.layout = html.Div([\n",
    "    dcc.Dropdown(options=UniProtIDs, id='drop-down-proteina'),\n",
    "    dashbio.SequenceViewer(\n",
    "        id='sequence-viewer',\n",
    "        sequence=secuencia,\n",
    "        showLineNumbers=True,\n",
    "        charsPerLine=20,\n",
    "        toolbar=True,\n",
    "        title=titulo\n",
    "    )\n",
    "])\n",
    "\n",
    "@callback(\n",
    "    Output('sequence-viewer', 'sequence'),\n",
    "    Output('sequence-viewer', 'title'),\n",
    "    Input('drop-down-proteina', 'value')\n",
    ")\n",
    "def actualizar_seq(value):\n",
    "    consulta = f\"SELECT sec.secuencia FROM secuencia as sec WHERE sec.id_proteina = (SELECT prot.id_proteina FROM proteina as prot WHERE prot.uniprotid = '{value}')\"\n",
    "    cursor.execute(consulta)\n",
    "    secuencia = [i[0] for i in cursor.fetchall()][0]\n",
    "    value = value + \"\\n\"\n",
    "    return secuencia, value\n",
    "\n",
    "if __name__ == '__main__':\n",
    "    app.run_server()"
   ]
  },
  {
   "cell_type": "code",
   "execution_count": null,
   "id": "deb23117-dbb0-4074-9f05-0b5bbb5d64a4",
   "metadata": {},
   "outputs": [],
   "source": []
  }
 ],
 "metadata": {
  "kernelspec": {
   "display_name": "Python 3 (ipykernel)",
   "language": "python",
   "name": "python3"
  },
  "language_info": {
   "codemirror_mode": {
    "name": "ipython",
    "version": 3
   },
   "file_extension": ".py",
   "mimetype": "text/x-python",
   "name": "python",
   "nbconvert_exporter": "python",
   "pygments_lexer": "ipython3",
   "version": "3.10.12"
  }
 },
 "nbformat": 4,
 "nbformat_minor": 5
}
