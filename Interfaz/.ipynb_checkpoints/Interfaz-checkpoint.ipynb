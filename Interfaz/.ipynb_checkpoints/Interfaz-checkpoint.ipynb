{
 "cells": [
  {
   "cell_type": "code",
   "execution_count": 1,
   "id": "9c9588ff-92d5-42f2-92b3-a8b158b540a6",
   "metadata": {},
   "outputs": [],
   "source": [
    "import psycopg2\n",
    "from IPython.display import display, Markdown, clear_output\n",
    "import ipywidgets as widgets\n",
    "import textwrap\n",
    "conn = psycopg2.connect(\n",
    "    database=\"RBPDB\",\n",
    "    host=\"localhost\",\n",
    "    user=\"postgres\",\n",
    "    password=\"123456\",\n",
    "    port=\"5432\"\n",
    ")\n",
    "\n",
    "cursor = conn.cursor()"
   ]
  },
  {
   "cell_type": "code",
   "execution_count": 15,
   "id": "384bf9df-e821-4ad9-a32c-378933c9e2d9",
   "metadata": {},
   "outputs": [
    {
     "data": {
      "text/html": [
       "\n",
       "        <iframe\n",
       "            width=\"100%\"\n",
       "            height=\"650\"\n",
       "            src=\"http://127.0.0.1:8050/\"\n",
       "            frameborder=\"0\"\n",
       "            allowfullscreen\n",
       "            \n",
       "        ></iframe>\n",
       "        "
      ],
      "text/plain": [
       "<IPython.lib.display.IFrame at 0x7efd914ce830>"
      ]
     },
     "metadata": {},
     "output_type": "display_data"
    },
    {
     "name": "stdout",
     "output_type": "stream",
     "text": [
      "\u001b[1;31m---------------------------------------------------------------------------\u001b[0m\n",
      "\u001b[1;31mIndexError\u001b[0m                                Traceback (most recent call last)\n",
      "\u001b[1;31mIndexError\u001b[0m: list index out of range\n",
      "\n"
     ]
    }
   ],
   "source": [
    "import urllib.request as urlreq\n",
    "from dash import Dash, html, dcc, callback, Output, Input\n",
    "import dash_bio as dashbio\n",
    "\n",
    "app = Dash(__name__)\n",
    "\n",
    "cursor.execute(\"SELECT uniprotid FROM proteina\")\n",
    "UniProtIDs = [i[0] for i in cursor.fetchall()]\n",
    "secuencia = '-'\n",
    "titulo = \" \"\n",
    "\n",
    "app.layout = html.Div([\n",
    "    dcc.Dropdown(options=UniProtIDs, id='drop-down-proteina'),\n",
    "    dashbio.SequenceViewer(\n",
    "        id='sequence-viewer',\n",
    "        sequence=secuencia,\n",
    "        showLineNumbers=True,\n",
    "        charsPerLine=20,\n",
    "        toolbar=True,\n",
    "        title=titulo\n",
    "    )\n",
    "])\n",
    "\n",
    "@callback(\n",
    "    Output('sequence-viewer', 'sequence'),\n",
    "    Output('sequence-viewer', 'title'),\n",
    "    Input('drop-down-proteina', 'value')\n",
    ")\n",
    "def actualizar_seq(value):\n",
    "    consulta = f\"SELECT sec.secuencia FROM secuencia as sec WHERE sec.id_proteina = (SELECT prot.id_proteina FROM proteina as prot WHERE prot.uniprotid = '{value}')\"\n",
    "    cursor.execute(consulta)\n",
    "    secuencia = [i[0] for i in cursor.fetchall()][0]\n",
    "    value = value + \"\\n\"\n",
    "    return secuencia, value\n",
    "\n",
    "if __name__ == '__main__':\n",
    "    app.run_server(debug=True)"
   ]
  },
  {
   "cell_type": "code",
   "execution_count": null,
   "id": "deb23117-dbb0-4074-9f05-0b5bbb5d64a4",
   "metadata": {},
   "outputs": [],
   "source": []
  }
 ],
 "metadata": {
  "kernelspec": {
   "display_name": "Python 3 (ipykernel)",
   "language": "python",
   "name": "python3"
  },
  "language_info": {
   "codemirror_mode": {
    "name": "ipython",
    "version": 3
   },
   "file_extension": ".py",
   "mimetype": "text/x-python",
   "name": "python",
   "nbconvert_exporter": "python",
   "pygments_lexer": "ipython3",
   "version": "3.10.12"
  }
 },
 "nbformat": 4,
 "nbformat_minor": 5
}
