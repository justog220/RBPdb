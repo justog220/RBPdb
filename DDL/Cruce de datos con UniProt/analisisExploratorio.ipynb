{
 "cells": [
  {
   "cell_type": "code",
   "execution_count": 1,
   "metadata": {},
   "outputs": [],
   "source": [
    "import pandas as pd"
   ]
  },
  {
   "cell_type": "code",
   "execution_count": 2,
   "metadata": {},
   "outputs": [],
   "source": [
    "head = [\"id\",\n",
    "        \"annotId\",\n",
    "        \"createDate\",\n",
    "        \"updateDate\",\n",
    "        \"geneName\",\n",
    "        \"geneDesc\",\n",
    "        \"species\",\n",
    "        \"taxID\",\n",
    "        \"domains\",\n",
    "        \"flag\",\n",
    "        \"flagNote\",\n",
    "        \"aliases\",\n",
    "        \"GSTpaper\",\n",
    "        \"PDBIDs\",\n",
    "        \"UniProtIDs\"\n",
    "        ]\n",
    "\n",
    "df_rbp = pd.read_csv('datos/Proteinas.csv', header=None, names=head)"
   ]
  },
  {
   "cell_type": "code",
   "execution_count": 5,
   "metadata": {},
   "outputs": [
    {
     "data": {
      "text/plain": [
       "25"
      ]
     },
     "execution_count": 5,
     "metadata": {},
     "output_type": "execute_result"
    }
   ],
   "source": [
    "max([len(i) for i in df_rbp[\"species\"].unique()])"
   ]
  },
  {
   "cell_type": "code",
   "execution_count": 9,
   "metadata": {},
   "outputs": [
    {
     "name": "stdout",
     "output_type": "stream",
     "text": [
      "<class 'pandas.core.frame.DataFrame'>\n",
      "RangeIndex: 1675 entries, 0 to 1674\n",
      "Data columns (total 15 columns):\n",
      " #   Column      Non-Null Count  Dtype \n",
      "---  ------      --------------  ----- \n",
      " 0   id          1675 non-null   int64 \n",
      " 1   annotId     1667 non-null   object\n",
      " 2   createDate  1675 non-null   object\n",
      " 3   updateDate  1675 non-null   object\n",
      " 4   geneName    1627 non-null   object\n",
      " 5   geneDesc    1513 non-null   object\n",
      " 6   species     1675 non-null   object\n",
      " 7   taxID       1675 non-null   int64 \n",
      " 8   domains     1638 non-null   object\n",
      " 9   flag        1675 non-null   object\n",
      " 10  flagNote    1670 non-null   object\n",
      " 11  aliases     1337 non-null   object\n",
      " 12  GSTpaper    1674 non-null   object\n",
      " 13  PDBIDs      1675 non-null   object\n",
      " 14  UniProtIDs  1675 non-null   object\n",
      "dtypes: int64(2), object(13)\n",
      "memory usage: 196.4+ KB\n"
     ]
    }
   ],
   "source": [
    "df_rbp.info()"
   ]
  },
  {
   "cell_type": "code",
   "execution_count": 12,
   "metadata": {},
   "outputs": [
    {
     "data": {
      "text/plain": [
       "21"
      ]
     },
     "execution_count": 12,
     "metadata": {},
     "output_type": "execute_result"
    }
   ],
   "source": [
    "max([len(str(i)) for i in df_rbp[\"geneName\"].unique()])"
   ]
  },
  {
   "cell_type": "code",
   "execution_count": null,
   "metadata": {},
   "outputs": [],
   "source": []
  }
 ],
 "metadata": {
  "kernelspec": {
   "display_name": "Python 3",
   "language": "python",
   "name": "python3"
  },
  "language_info": {
   "codemirror_mode": {
    "name": "ipython",
    "version": 3
   },
   "file_extension": ".py",
   "mimetype": "text/x-python",
   "name": "python",
   "nbconvert_exporter": "python",
   "pygments_lexer": "ipython3",
   "version": "3.10.12"
  },
  "orig_nbformat": 4
 },
 "nbformat": 4,
 "nbformat_minor": 2
}
